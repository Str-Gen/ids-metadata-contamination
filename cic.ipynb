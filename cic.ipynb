{
    "cells": [
        {
            "cell_type": "code",
            "execution_count": 21,
            "metadata": {},
            "outputs": [],
            "source": [
                "import pandas as pd\n",
                "import numpy as np\n",
                "from sklearn.ensemble import RandomForestClassifier as RF\n",
                "from sklearn.model_selection import train_test_split\n",
                "from sklearn.metrics import accuracy_score, precision_score, recall_score\n"
            ]
        },
        {
            "cell_type": "code",
            "execution_count": 22,
            "metadata": {},
            "outputs": [],
            "source": [
                "head = \"/home/dhoogla/PhD/clean-ids-collection\"\n",
                "cic_data = {    \n",
                "    \"cicddos2019-DNS\": f'{head}/cic-ddos2019/dirty-with-metadata/01_12_DrDoS_DNS.parquet',\n",
                "    \"cicddos2019-LDAP1\": f'{head}/cic-ddos2019/dirty-with-metadata/01_12_DrDoS_LDAP.parquet',\n",
                "    \"cicddos2019-MSSQL1\": f'{head}/cic-ddos2019/dirty-with-metadata/01_12_DrDoS_MSSQL.parquet',\n",
                "    \"cicddos2019-NETBIOS1\": f'{head}/cic-ddos2019/dirty-with-metadata/01_12_DrDoS_NetBIOS.parquet',\n",
                "    \"cicddos2019-NTP\": f'{head}/cic-ddos2019/dirty-with-metadata/01_12_DrDoS_NTP.parquet',\n",
                "    \"cicddos2019-SNMP\": f'{head}/cic-ddos2019/dirty-with-metadata/01_12_DrDoS_SNMP.parquet',\n",
                "    \"cicddos2019-SSDP\": f'{head}/cic-ddos2019/dirty-with-metadata/01_12_DrDoS_SSDP.parquet',\n",
                "    \"cicddos2019-UDP1\": f'{head}/cic-ddos2019/dirty-with-metadata/01_12_DrDoS_UDP.parquet',\n",
                "    \"cicddos2019-SYN1\": f'{head}/cic-ddos2019/dirty-with-metadata/01_12_Syn.parquet',\n",
                "    \"cicddos2019-TFTP\": f'{head}/cic-ddos2019/dirty-with-metadata/01_12_TFTP.parquet',\n",
                "    \"cicddos2019-UDPLAG1\": f'{head}/cic-ddos2019/dirty-with-metadata/01_12_UDPLag.parquet',\n",
                "    \"cicddos2019-LDAP2\": f'{head}/cic-ddos2019/dirty-with-metadata/03_11_LDAP.parquet',\n",
                "    \"cicddos2019-MSSQL2\": f'{head}/cic-ddos2019/dirty-with-metadata/03_11_MSSQL.parquet',\n",
                "    \"cicddos2019-NETBIOS2\": f'{head}/cic-ddos2019/dirty-with-metadata/03_11_NetBIOS.parquet',\n",
                "    \"cicddos2019-PORTMAP\": f'{head}/cic-ddos2019/dirty-with-metadata/03_11_Portmap.parquet',\n",
                "    \"cicddos2019-SYN2\": f'{head}/cic-ddos2019/dirty-with-metadata/03_11_Syn.parquet',\n",
                "    \"cicddos2019-UDPLAG2\": f'{head}/cic-ddos2019/dirty-with-metadata/03_11_UDPLag.parquet',\n",
                "    \"cicddos2019-UDP2\": f'{head}/cic-ddos2019/dirty-with-metadata/03_11_UDP.parquet',\n",
                "    \"cicddos2019\": f'{head}/cic-ddos2019/dirty-with-metadata/cicddos2019.parquet',\n",
                "\n",
                "    \"cicdos2017\": f'{head}/cic-dos2017/dirty-with-metadata/cicdos2017.parquet',\n",
                "\n",
                "    \"cicids2017-benign\": f'{head}/cic-ids2017/dirty-with-metadata/Benign-Monday-WorkingHours.pcap_ISCX.parquet',\n",
                "    \"cicids2017-botnet\": f'{head}/cic-ids2017/dirty-with-metadata/Botnet-Friday-WorkingHours-Morning.pcap_ISCX.parquet',\n",
                "    \"cicids2017-bruteforce\": f'{head}/cic-ids2017/dirty-with-metadata/Bruteforce-Tuesday-WorkingHours.pcap_ISCX.parquet',    \n",
                "    \"cicids2017-ddos\": f'{head}/cic-ids2017/dirty-with-metadata/DDoS-Friday-WorkingHours-Afternoon.pcap_ISCX.parquet',\n",
                "    \"cicids2017-dos\": f'{head}/cic-ids2017/dirty-with-metadata/DoS-Wednesday-WorkingHours.pcap_ISCX.parquet',\n",
                "    \"cicids2017-infiltration\": f'{head}/cic-ids2017/dirty-with-metadata/Infiltration-Thursday-WorkingHours-Afternoon.pcap_ISCX.parquet',\n",
                "    \"cicids2017-portscan\": f'{head}/cic-ids2017/dirty-with-metadata/Portscan-Friday-WorkingHours-Afternoon.pcap_ISCX.parquet',\n",
                "    \"cicids2017-webattacks\": f'{head}/cic-ids2017/dirty-with-metadata/WebAttacks-Thursday-WorkingHours-Morning.pcap_ISCX.parquet',\n",
                "    \"cicids2017\": f'{head}/cic-ids2017/dirty-with-metadata/cicids2017.parquet',\n",
                "\n",
                "    \"csecicids2018-botnet\": f'{head}/cse-cic-ids2018/dirty-with-metadata/Botnet-Friday-02-03-2018_TrafficForML_CICFlowMeter.parquet',\n",
                "    \"csecicids2018-bruteforce\": f'{head}/cse-cic-ids2018/dirty-with-metadata/Bruteforce-Wednesday-14-02-2018_TrafficForML_CICFlowMeter.parquet',    \n",
                "    \"csecicids2018-ddos1\": f'{head}/cse-cic-ids2018/dirty-with-metadata/DDoS1-Tuesday-20-02-2018_TrafficForML_CICFlowMeter.parquet',\n",
                "    \"csecicids2018-ddos2\": f'{head}/cse-cic-ids2018/dirty-with-metadata/DDoS2-Wednesday-21-02-2018_TrafficForML_CICFlowMeter.parquet',\n",
                "    \"csecicids2018-dos1\": f'{head}/cse-cic-ids2018/dirty-with-metadata/DoS1-Thursday-15-02-2018_TrafficForML_CICFlowMeter.parquet',\n",
                "    \"csecicids2018-dos2\": f'{head}/cse-cic-ids2018/dirty-with-metadata/DoS2-Friday-16-02-2018_TrafficForML_CICFlowMeter.parquet',\n",
                "    \"csecicids2018-infiltration1\": f'{head}/cse-cic-ids2018/dirty-with-metadata/Infil1-Wednesday-28-02-2018_TrafficForML_CICFlowMeter.parquet',\n",
                "    \"csecicids2018-infiltration2\": f'{head}/cse-cic-ids2018/dirty-with-metadata/Infil2-Thursday-01-03-2018_TrafficForML_CICFlowMeter.parquet',\n",
                "    \"csecicids2018-webattacks1\": f'{head}/cse-cic-ids2018/dirty-with-metadata/Web1-Thursday-22-02-2018_TrafficForML_CICFlowMeter.parquet',\n",
                "    \"csecicids2018-webattacks2\": f'{head}/cse-cic-ids2018/dirty-with-metadata/Web2-Friday-23-02-2018_TrafficForML_CICFlowMeter.parquet',\n",
                "    \"csecicids2018\": f'{head}/cse-cic-ids2018/dirty-with-metadata/csecicids2018.parquet',\n",
                "}"
            ]
        },
        {
            "cell_type": "code",
            "execution_count": 23,
            "metadata": {},
            "outputs": [],
            "source": [
                "dataset = \"cicdos2017\"\n",
                "datapaths = [f\"{cic_data[dataset]}\"]"
            ]
        },
        {
            "cell_type": "code",
            "execution_count": 24,
            "metadata": {},
            "outputs": [],
            "source": [
                "df = pd.concat(objs=[pd.read_parquet(path) for path in datapaths], ignore_index=True, copy=False, sort=False, verify_integrity=False)"
            ]
        },
        {
            "cell_type": "code",
            "execution_count": 25,
            "metadata": {},
            "outputs": [
                {
                    "data": {
                        "text/plain": [
                            "Index(['Destination Port', 'Protocol', 'Timestamp', 'Flow Duration',\n",
                            "       'Total Fwd Packets', 'Total Backward Packets',\n",
                            "       'Fwd Packets Length Total', 'Bwd Packets Length Total',\n",
                            "       'Fwd Packet Length Max', 'Fwd Packet Length Min',\n",
                            "       'Fwd Packet Length Mean', 'Fwd Packet Length Std',\n",
                            "       'Bwd Packet Length Max', 'Bwd Packet Length Min',\n",
                            "       'Bwd Packet Length Mean', 'Bwd Packet Length Std', 'Flow Bytes/s',\n",
                            "       'Flow Packets/s', 'Flow IAT Mean', 'Flow IAT Std', 'Flow IAT Max',\n",
                            "       'Flow IAT Min', 'Fwd IAT Total', 'Fwd IAT Mean', 'Fwd IAT Std',\n",
                            "       'Fwd IAT Max', 'Fwd IAT Min', 'Bwd IAT Total', 'Bwd IAT Mean',\n",
                            "       'Bwd IAT Std', 'Bwd IAT Max', 'Bwd IAT Min', 'Fwd PSH Flags',\n",
                            "       'Fwd Header Length', 'Bwd Header Length', 'Fwd Packets/s',\n",
                            "       'Bwd Packets/s', 'Packet Length Min', 'Packet Length Max',\n",
                            "       'Packet Length Mean', 'Packet Length Std', 'Packet Length Variance',\n",
                            "       'FIN Flag Count', 'SYN Flag Count', 'RST Flag Count', 'PSH Flag Count',\n",
                            "       'ACK Flag Count', 'URG Flag Count', 'ECE Flag Count', 'Down/Up Ratio',\n",
                            "       'Avg Packet Size', 'Avg Fwd Segment Size', 'Avg Bwd Segment Size',\n",
                            "       'Subflow Fwd Packets', 'Subflow Fwd Bytes', 'Subflow Bwd Packets',\n",
                            "       'Subflow Bwd Bytes', 'Init Fwd Win Bytes', 'Init Bwd Win Bytes',\n",
                            "       'Fwd Act Data Packets', 'Fwd Seg Size Min', 'Active Mean', 'Active Std',\n",
                            "       'Active Max', 'Active Min', 'Idle Mean', 'Idle Std', 'Idle Max',\n",
                            "       'Idle Min', 'Label'],\n",
                            "      dtype='object')"
                        ]
                    },
                    "execution_count": 25,
                    "metadata": {},
                    "output_type": "execute_result"
                }
            ],
            "source": [
                "df.columns"
            ]
        },
        {
            "cell_type": "code",
            "execution_count": 26,
            "metadata": {},
            "outputs": [
                {
                    "data": {
                        "text/plain": [
                            "Benign                   986392\n",
                            "DoS attacks-GoldenEye     41455\n",
                            "DoS attacks-Slowloris     10285\n",
                            "Name: Label, dtype: int64"
                        ]
                    },
                    "execution_count": 26,
                    "metadata": {},
                    "output_type": "execute_result"
                }
            ],
            "source": [
                "df = df[['Destination Port', 'Label']]\n",
                "df['Label'] = df['Label'].astype(dtype='object')\n",
                "df['Label'].value_counts()"
            ]
        },
        {
            "cell_type": "code",
            "execution_count": 27,
            "metadata": {},
            "outputs": [
                {
                    "data": {
                        "text/plain": [
                            "0.0    986392\n",
                            "1.0     51740\n",
                            "Name: Label, dtype: int64"
                        ]
                    },
                    "execution_count": 27,
                    "metadata": {},
                    "output_type": "execute_result"
                }
            ],
            "source": [
                "\n",
                "label_idx = df.columns.size -1\n",
                "attacks = df.loc[df['Label'] != \"Benign\"].index\n",
                "df.iloc[attacks, label_idx] = 1.0\n",
                "df.iloc[df.index.difference(attacks), label_idx] = 0.0\n",
                "df['Label'] = df['Label'].astype(dtype='float32', copy=False)\n",
                "df['Label'].value_counts()"
            ]
        },
        {
            "cell_type": "code",
            "execution_count": 28,
            "metadata": {},
            "outputs": [],
            "source": [
                "col = df.columns[-1]\n",
                "cols = df.columns[:-1]\n",
                "vc = df[col].value_counts()\n",
                "n = vc.iloc[-1]\n",
                "m = vc.iloc[0]\n",
                "initial_cut = df.loc[df[col] == vc.index[0]].sample(n=int(m-n), replace=False)\n",
                "df = df.drop(index=initial_cut.index)"
            ]
        },
        {
            "cell_type": "code",
            "execution_count": 29,
            "metadata": {},
            "outputs": [
                {
                    "name": "stdout",
                    "output_type": "stream",
                    "text": [
                        "(103480, 2)\n"
                    ]
                },
                {
                    "data": {
                        "text/plain": [
                            "0.0    51740\n",
                            "1.0    51740\n",
                            "Name: Label, dtype: int64"
                        ]
                    },
                    "execution_count": 29,
                    "metadata": {},
                    "output_type": "execute_result"
                }
            ],
            "source": [
                "print(df.shape)\n",
                "df['Label'].value_counts()"
            ]
        },
        {
            "cell_type": "code",
            "execution_count": 30,
            "metadata": {},
            "outputs": [
                {
                    "name": "stdout",
                    "output_type": "stream",
                    "text": [
                        "53       17465\n",
                        "80        9701\n",
                        "443       8255\n",
                        "3389      3840\n",
                        "445       2863\n",
                        "         ...  \n",
                        "51350        1\n",
                        "58777        1\n",
                        "52422        1\n",
                        "52392        1\n",
                        "50143        1\n",
                        "Name: Destination Port, Length: 4506, dtype: int64\n",
                        "80    51740\n",
                        "Name: Destination Port, dtype: int64\n"
                    ]
                }
            ],
            "source": [
                "gp = df.groupby('Label')\n",
                "with pd.option_context('display.max_rows', 50):\n",
                "    print(gp.get_group(0.0)['Destination Port'].value_counts())\n",
                "    print(gp.get_group(1.0)['Destination Port'].value_counts())"
            ]
        },
        {
            "cell_type": "code",
            "execution_count": 31,
            "metadata": {},
            "outputs": [
                {
                    "data": {
                        "image/png": "[encoded data removed]",
                        "text/plain": [
                            "<Figure size 432x288 with 2 Axes>"
                        ]
                    },
                    "metadata": {
                        "needs_background": "light"
                    },
                    "output_type": "display_data"
                }
            ],
            "source": [
                "hist = df.hist(column='Destination Port', by='Label', bins=256, log=True, sharey=True, sharex=True)"
            ]
        },
        {
            "cell_type": "code",
            "execution_count": 32,
            "metadata": {},
            "outputs": [
                {
                    "data": {
                        "text/html": [
                            "<style>#sk-container-id-3 {color: black;background-color: white;}#sk-container-id-3 pre{padding: 0;}#sk-container-id-3 div.sk-toggleable {background-color: white;}#sk-container-id-3 label.sk-toggleable__label {cursor: pointer;display: block;width: 100%;margin-bottom: 0;padding: 0.3em;box-sizing: border-box;text-align: center;}#sk-container-id-3 label.sk-toggleable__label-arrow:before {content: \"▸\";float: left;margin-right: 0.25em;color: #696969;}#sk-container-id-3 label.sk-toggleable__label-arrow:hover:before {color: black;}#sk-container-id-3 div.sk-estimator:hover label.sk-toggleable__label-arrow:before {color: black;}#sk-container-id-3 div.sk-toggleable__content {max-height: 0;max-width: 0;overflow: hidden;text-align: left;background-color: #f0f8ff;}#sk-container-id-3 div.sk-toggleable__content pre {margin: 0.2em;color: black;border-radius: 0.25em;background-color: #f0f8ff;}#sk-container-id-3 input.sk-toggleable__control:checked~div.sk-toggleable__content {max-height: 200px;max-width: 100%;overflow: auto;}#sk-container-id-3 input.sk-toggleable__control:checked~label.sk-toggleable__label-arrow:before {content: \"▾\";}#sk-container-id-3 div.sk-estimator input.sk-toggleable__control:checked~label.sk-toggleable__label {background-color: #d4ebff;}#sk-container-id-3 div.sk-label input.sk-toggleable__control:checked~label.sk-toggleable__label {background-color: #d4ebff;}#sk-container-id-3 input.sk-hidden--visually {border: 0;clip: rect(1px 1px 1px 1px);clip: rect(1px, 1px, 1px, 1px);height: 1px;margin: -1px;overflow: hidden;padding: 0;position: absolute;width: 1px;}#sk-container-id-3 div.sk-estimator {font-family: monospace;background-color: #f0f8ff;border: 1px dotted black;border-radius: 0.25em;box-sizing: border-box;margin-bottom: 0.5em;}#sk-container-id-3 div.sk-estimator:hover {background-color: #d4ebff;}#sk-container-id-3 div.sk-parallel-item::after {content: \"\";width: 100%;border-bottom: 1px solid gray;flex-grow: 1;}#sk-container-id-3 div.sk-label:hover label.sk-toggleable__label {background-color: #d4ebff;}#sk-container-id-3 div.sk-serial::before {content: \"\";position: absolute;border-left: 1px solid gray;box-sizing: border-box;top: 0;bottom: 0;left: 50%;z-index: 0;}#sk-container-id-3 div.sk-serial {display: flex;flex-direction: column;align-items: center;background-color: white;padding-right: 0.2em;padding-left: 0.2em;position: relative;}#sk-container-id-3 div.sk-item {position: relative;z-index: 1;}#sk-container-id-3 div.sk-parallel {display: flex;align-items: stretch;justify-content: center;background-color: white;position: relative;}#sk-container-id-3 div.sk-item::before, #sk-container-id-3 div.sk-parallel-item::before {content: \"\";position: absolute;border-left: 1px solid gray;box-sizing: border-box;top: 0;bottom: 0;left: 50%;z-index: -1;}#sk-container-id-3 div.sk-parallel-item {display: flex;flex-direction: column;z-index: 1;position: relative;background-color: white;}#sk-container-id-3 div.sk-parallel-item:first-child::after {align-self: flex-end;width: 50%;}#sk-container-id-3 div.sk-parallel-item:last-child::after {align-self: flex-start;width: 50%;}#sk-container-id-3 div.sk-parallel-item:only-child::after {width: 0;}#sk-container-id-3 div.sk-dashed-wrapped {border: 1px dashed gray;margin: 0 0.4em 0.5em 0.4em;box-sizing: border-box;padding-bottom: 0.4em;background-color: white;}#sk-container-id-3 div.sk-label label {font-family: monospace;font-weight: bold;display: inline-block;line-height: 1.2em;}#sk-container-id-3 div.sk-label-container {text-align: center;}#sk-container-id-3 div.sk-container {/* jupyter's `normalize.less` sets `[hidden] { display: none; }` but bootstrap.min.css set `[hidden] { display: none !important; }` so we also need the `!important` here to be able to override the default hidden behavior on the sphinx rendered scikit-learn.org. See: https://github.com/scikit-learn/scikit-learn/issues/21755 */display: inline-block !important;position: relative;}#sk-container-id-3 div.sk-text-repr-fallback {display: none;}</style><div id=\"sk-container-id-3\" class=\"sk-top-container\"><div class=\"sk-text-repr-fallback\"><pre>RandomForestClassifier(criterion=&#x27;entropy&#x27;, max_depth=3, max_samples=0.5,\n",
                            "                       min_samples_leaf=2, n_estimators=10, n_jobs=-1)</pre><b>In a Jupyter environment, please rerun this cell to show the HTML representation or trust the notebook. <br />On GitHub, the HTML representation is unable to render, please try loading this page with nbviewer.org.</b></div><div class=\"sk-container\" hidden><div class=\"sk-item\"><div class=\"sk-estimator sk-toggleable\"><input class=\"sk-toggleable__control sk-hidden--visually\" id=\"sk-estimator-id-3\" type=\"checkbox\" checked><label for=\"sk-estimator-id-3\" class=\"sk-toggleable__label sk-toggleable__label-arrow\">RandomForestClassifier</label><div class=\"sk-toggleable__content\"><pre>RandomForestClassifier(criterion=&#x27;entropy&#x27;, max_depth=3, max_samples=0.5,\n",
                            "                       min_samples_leaf=2, n_estimators=10, n_jobs=-1)</pre></div></div></div></div></div>"
                        ],
                        "text/plain": [
                            "RandomForestClassifier(criterion='entropy', max_depth=3, max_samples=0.5,\n",
                            "                       min_samples_leaf=2, n_estimators=10, n_jobs=-1)"
                        ]
                    },
                    "execution_count": 32,
                    "metadata": {},
                    "output_type": "execute_result"
                }
            ],
            "source": [
                "model = RF()\n",
                "best_param_dict = {\n",
                "        'bootstrap': True,\n",
                "        'max_depth': 3,\n",
                "        'max_features': 'sqrt',\n",
                "        'min_impurity_decrease': 0.0,\n",
                "        'min_samples_leaf': 2,\n",
                "        'n_estimators': 10,\n",
                "        'max_samples': 0.5,\n",
                "        'criterion': 'entropy',\n",
                "        'n_jobs': -1,\n",
                "        }\n",
                "model.set_params(**best_param_dict)"
            ]
        },
        {
            "cell_type": "code",
            "execution_count": 33,
            "metadata": {},
            "outputs": [],
            "source": [
                "X_train, X_test, y_train, y_test = train_test_split(df['Destination Port'], df['Label'], test_size=0.8, random_state=42)"
            ]
        },
        {
            "cell_type": "code",
            "execution_count": 34,
            "metadata": {},
            "outputs": [
                {
                    "data": {
                        "text/html": [
                            "<style>#sk-container-id-4 {color: black;background-color: white;}#sk-container-id-4 pre{padding: 0;}#sk-container-id-4 div.sk-toggleable {background-color: white;}#sk-container-id-4 label.sk-toggleable__label {cursor: pointer;display: block;width: 100%;margin-bottom: 0;padding: 0.3em;box-sizing: border-box;text-align: center;}#sk-container-id-4 label.sk-toggleable__label-arrow:before {content: \"▸\";float: left;margin-right: 0.25em;color: #696969;}#sk-container-id-4 label.sk-toggleable__label-arrow:hover:before {color: black;}#sk-container-id-4 div.sk-estimator:hover label.sk-toggleable__label-arrow:before {color: black;}#sk-container-id-4 div.sk-toggleable__content {max-height: 0;max-width: 0;overflow: hidden;text-align: left;background-color: #f0f8ff;}#sk-container-id-4 div.sk-toggleable__content pre {margin: 0.2em;color: black;border-radius: 0.25em;background-color: #f0f8ff;}#sk-container-id-4 input.sk-toggleable__control:checked~div.sk-toggleable__content {max-height: 200px;max-width: 100%;overflow: auto;}#sk-container-id-4 input.sk-toggleable__control:checked~label.sk-toggleable__label-arrow:before {content: \"▾\";}#sk-container-id-4 div.sk-estimator input.sk-toggleable__control:checked~label.sk-toggleable__label {background-color: #d4ebff;}#sk-container-id-4 div.sk-label input.sk-toggleable__control:checked~label.sk-toggleable__label {background-color: #d4ebff;}#sk-container-id-4 input.sk-hidden--visually {border: 0;clip: rect(1px 1px 1px 1px);clip: rect(1px, 1px, 1px, 1px);height: 1px;margin: -1px;overflow: hidden;padding: 0;position: absolute;width: 1px;}#sk-container-id-4 div.sk-estimator {font-family: monospace;background-color: #f0f8ff;border: 1px dotted black;border-radius: 0.25em;box-sizing: border-box;margin-bottom: 0.5em;}#sk-container-id-4 div.sk-estimator:hover {background-color: #d4ebff;}#sk-container-id-4 div.sk-parallel-item::after {content: \"\";width: 100%;border-bottom: 1px solid gray;flex-grow: 1;}#sk-container-id-4 div.sk-label:hover label.sk-toggleable__label {background-color: #d4ebff;}#sk-container-id-4 div.sk-serial::before {content: \"\";position: absolute;border-left: 1px solid gray;box-sizing: border-box;top: 0;bottom: 0;left: 50%;z-index: 0;}#sk-container-id-4 div.sk-serial {display: flex;flex-direction: column;align-items: center;background-color: white;padding-right: 0.2em;padding-left: 0.2em;position: relative;}#sk-container-id-4 div.sk-item {position: relative;z-index: 1;}#sk-container-id-4 div.sk-parallel {display: flex;align-items: stretch;justify-content: center;background-color: white;position: relative;}#sk-container-id-4 div.sk-item::before, #sk-container-id-4 div.sk-parallel-item::before {content: \"\";position: absolute;border-left: 1px solid gray;box-sizing: border-box;top: 0;bottom: 0;left: 50%;z-index: -1;}#sk-container-id-4 div.sk-parallel-item {display: flex;flex-direction: column;z-index: 1;position: relative;background-color: white;}#sk-container-id-4 div.sk-parallel-item:first-child::after {align-self: flex-end;width: 50%;}#sk-container-id-4 div.sk-parallel-item:last-child::after {align-self: flex-start;width: 50%;}#sk-container-id-4 div.sk-parallel-item:only-child::after {width: 0;}#sk-container-id-4 div.sk-dashed-wrapped {border: 1px dashed gray;margin: 0 0.4em 0.5em 0.4em;box-sizing: border-box;padding-bottom: 0.4em;background-color: white;}#sk-container-id-4 div.sk-label label {font-family: monospace;font-weight: bold;display: inline-block;line-height: 1.2em;}#sk-container-id-4 div.sk-label-container {text-align: center;}#sk-container-id-4 div.sk-container {/* jupyter's `normalize.less` sets `[hidden] { display: none; }` but bootstrap.min.css set `[hidden] { display: none !important; }` so we also need the `!important` here to be able to override the default hidden behavior on the sphinx rendered scikit-learn.org. See: https://github.com/scikit-learn/scikit-learn/issues/21755 */display: inline-block !important;position: relative;}#sk-container-id-4 div.sk-text-repr-fallback {display: none;}</style><div id=\"sk-container-id-4\" class=\"sk-top-container\"><div class=\"sk-text-repr-fallback\"><pre>RandomForestClassifier(criterion=&#x27;entropy&#x27;, max_depth=3, max_samples=0.5,\n",
                            "                       min_samples_leaf=2, n_estimators=10, n_jobs=-1)</pre><b>In a Jupyter environment, please rerun this cell to show the HTML representation or trust the notebook. <br />On GitHub, the HTML representation is unable to render, please try loading this page with nbviewer.org.</b></div><div class=\"sk-container\" hidden><div class=\"sk-item\"><div class=\"sk-estimator sk-toggleable\"><input class=\"sk-toggleable__control sk-hidden--visually\" id=\"sk-estimator-id-4\" type=\"checkbox\" checked><label for=\"sk-estimator-id-4\" class=\"sk-toggleable__label sk-toggleable__label-arrow\">RandomForestClassifier</label><div class=\"sk-toggleable__content\"><pre>RandomForestClassifier(criterion=&#x27;entropy&#x27;, max_depth=3, max_samples=0.5,\n",
                            "                       min_samples_leaf=2, n_estimators=10, n_jobs=-1)</pre></div></div></div></div></div>"
                        ],
                        "text/plain": [
                            "RandomForestClassifier(criterion='entropy', max_depth=3, max_samples=0.5,\n",
                            "                       min_samples_leaf=2, n_estimators=10, n_jobs=-1)"
                        ]
                    },
                    "execution_count": 34,
                    "metadata": {},
                    "output_type": "execute_result"
                }
            ],
            "source": [
                "model.fit(X=X_train.array.reshape(-1,1), y=y_train.array)"
            ]
        },
        {
            "cell_type": "code",
            "execution_count": 35,
            "metadata": {},
            "outputs": [
                {
                    "name": "stdout",
                    "output_type": "stream",
                    "text": [
                        "csecicids2018-dos1 => Destination Port\n",
                        "Accuracy: 0.907\n",
                        "Recall: 1.000\n",
                        "Precision: 0.842\n"
                    ]
                }
            ],
            "source": [
                "intra_outputs = model.predict(X=X_test.array.reshape(-1,1))\n",
                "intra_acc = accuracy_score(y_true=y_test, y_pred=intra_outputs)\n",
                "intra_rec = recall_score(y_true=y_test, y_pred=intra_outputs)\n",
                "intra_pre = precision_score(y_true=y_test, y_pred=intra_outputs)\n",
                "print(f\"{dataset} => Destination Port\")\n",
                "print(f\"Accuracy: {intra_acc:.3f}\")\n",
                "print(f\"Recall: {intra_rec:.3f}\")\n",
                "print(f\"Precision: {intra_pre:.3f}\")\n"
            ]
        }
    ],
    "metadata": {
        "interpreter": {
            "hash": "e7370f93d1d0cde622a1f8e1c04877d8463912d04d973331ad4851f04de6915a"
        },
        "kernelspec": {
            "display_name": "Python 3.9.7 64-bit",
            "name": "python3"
        },
        "language_info": {
            "codemirror_mode": {
                "name": "ipython",
                "version": 3
            },
            "file_extension": ".py",
            "mimetype": "text/x-python",
            "name": "python",
            "nbconvert_exporter": "python",
            "pygments_lexer": "ipython3",
            "version": "3.10.4"
        },
        "orig_nbformat": 4
    },
    "nbformat": 4,
    "nbformat_minor": 2
}
