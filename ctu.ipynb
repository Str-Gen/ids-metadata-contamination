{
    "cells": [
        {
            "cell_type": "code",
            "execution_count": 1,
            "metadata": {},
            "outputs": [],
            "source": [
                "import pandas as pd\n",
                "import numpy as np\n",
                "from sklearn.ensemble import RandomForestClassifier as RF\n",
                "from sklearn.model_selection import train_test_split\n",
                "from sklearn.metrics import accuracy_score, precision_score, recall_score\n"
            ]
        },
        {
            "cell_type": "code",
            "execution_count": 2,
            "metadata": {},
            "outputs": [],
            "source": [
                "head = \"/home/dhoogla/PhD/clean-ids-collection\"\n",
                "ctu_data = {    \n",
                "    'ctu13-10': f'{head}/ctu-13/dirty-with-metadata/10/capture20110818.binetflow.parquet',\n",
                "    'ctu13-11': f'{head}/ctu-13/dirty-with-metadata/11/capture20110818-2.binetflow.parquet',\n",
                "    'ctu13-12': f'{head}/ctu-13/dirty-with-metadata/12/capture20110819.binetflow.parquet',\n",
                "    'ctu13-13': f'{head}/ctu-13/dirty-with-metadata/13/capture20110815-3.binetflow.parquet',\n",
                "    'ctu13-1': f'{head}/ctu-13/dirty-with-metadata/1/capture20110810.binetflow.parquet',\n",
                "    'ctu13-2': f'{head}/ctu-13/dirty-with-metadata/2/capture20110811.binetflow.parquet',\n",
                "    'ctu13-3': f'{head}/ctu-13/dirty-with-metadata/3/capture20110812.binetflow.parquet',\n",
                "    'ctu13-4': f'{head}/ctu-13/dirty-with-metadata/4/capture20110815.binetflow.parquet',\n",
                "    'ctu13-5': f'{head}/ctu-13/dirty-with-metadata/5/capture20110815-2.binetflow.parquet',\n",
                "    'ctu13-6': f'{head}/ctu-13/dirty-with-metadata/6/capture20110816.binetflow.parquet',\n",
                "    'ctu13-7': f'{head}/ctu-13/dirty-with-metadata/7/capture20110816-2.binetflow.parquet',\n",
                "    'ctu13-8': f'{head}/ctu-13/dirty-with-metadata/8/capture20110816-3.binetflow.parquet',\n",
                "    'ctu13-9': f'{head}/ctu-13/dirty-with-metadata/9/capture20110817.binetflow.parquet',\n",
                "    'ctu13': f'{head}/ctu-13/dirty-with-metadata/all/ctu-13.binetflow.parquet'   \n",
                "}\n"
            ]
        },
        {
            "cell_type": "code",
            "execution_count": 3,
            "metadata": {},
            "outputs": [],
            "source": [
                "dataset = \"ctu13-1\"\n",
                "datapaths = [f\"{ctu_data[dataset]}\"]\n"
            ]
        },
        {
            "cell_type": "code",
            "execution_count": 4,
            "metadata": {},
            "outputs": [],
            "source": [
                "df = pd.concat(objs=[pd.read_parquet(path) for path in datapaths], ignore_index=True, copy=False, sort=False, verify_integrity=False)"
            ]
        },
        {
            "cell_type": "code",
            "execution_count": 5,
            "metadata": {},
            "outputs": [
                {
                    "data": {
                        "text/plain": [
                            "Index(['dur', 'proto_icmp', 'proto_rtcp', 'proto_rtp', 'proto_tcp',\n",
                            "       'proto_udp', 'proto_udt', 'srcaddr', 'sport', 'dir_->', 'dir_<-',\n",
                            "       'dir_<->', 'dir_<?', 'dir_<?>', 'dir_?>', 'dstaddr', 'dport', 'state',\n",
                            "       'stos', 'dtos', 'tot_pkts', 'tot_bytes', 'src_bytes', 'label'],\n",
                            "      dtype='object')"
                        ]
                    },
                    "execution_count": 5,
                    "metadata": {},
                    "output_type": "execute_result"
                }
            ],
            "source": [
                "df.columns"
            ]
        },
        {
            "cell_type": "code",
            "execution_count": 6,
            "metadata": {},
            "outputs": [
                {
                    "data": {
                        "text/plain": [
                            "flow=Background-UDP-Established                                            1169572\n",
                            "flow=To-Background-UDP-CVUT-DNS-Server                                      924498\n",
                            "flow=Background-TCP-Established                                             216352\n",
                            "flow=Background-Established-cmpgw-CVUT                                      137167\n",
                            "flow=Background-TCP-Attempt                                                  52794\n",
                            "                                                                            ...   \n",
                            "flow=From-Botnet-V42-TCP-Established-HTTP-Ad-60                                  1\n",
                            "flow=From-Botnet-V42-TCP-HTTP-Not-Encrypted-Down-2                               1\n",
                            "flow=From-Botnet-V42-TCP-Established-HTTP-Binary-Download-Custom-Port-5          1\n",
                            "flow=From-Botnet-V42-TCP-Established-HTTP-Adobe-4                                1\n",
                            "flow=From-Botnet-V42-TCP-Established-HTTP-Ad-49                                  1\n",
                            "Name: label, Length: 108, dtype: int64"
                        ]
                    },
                    "execution_count": 6,
                    "metadata": {},
                    "output_type": "execute_result"
                }
            ],
            "source": [
                "df = df[['dport', 'label']]\n",
                "df['label'] = df['label'].astype(dtype='object')\n",
                "df['label'].value_counts()"
            ]
        },
        {
            "cell_type": "code",
            "execution_count": 7,
            "metadata": {},
            "outputs": [
                {
                    "data": {
                        "text/plain": [
                            "0.0    2573344\n",
                            "1.0      27583\n",
                            "Name: label, dtype: int64"
                        ]
                    },
                    "execution_count": 7,
                    "metadata": {},
                    "output_type": "execute_result"
                }
            ],
            "source": [
                "df['label'] = df['label'].str.startswith('flow=From-Botnet', na=False)\n",
                "df['label'] = df['label'].astype(dtype='float32', copy=False)\n",
                "df['label'].value_counts()"
            ]
        },
        {
            "cell_type": "code",
            "execution_count": 8,
            "metadata": {},
            "outputs": [],
            "source": [
                "col = df.columns[-1]\n",
                "cols = df.columns[:-1]\n",
                "vc = df[col].value_counts()\n",
                "n = vc.iloc[-1]\n",
                "m = vc.iloc[0]\n",
                "initial_cut = df.loc[df[col] == vc.index[0]].sample(n=int(m-n), replace=False)\n",
                "df = df.drop(index=initial_cut.index)"
            ]
        },
        {
            "cell_type": "code",
            "execution_count": 9,
            "metadata": {},
            "outputs": [
                {
                    "name": "stdout",
                    "output_type": "stream",
                    "text": [
                        "(55166, 2)\n"
                    ]
                },
                {
                    "data": {
                        "text/plain": [
                            "0.0    27583\n",
                            "1.0    27583\n",
                            "Name: label, dtype: int64"
                        ]
                    },
                    "execution_count": 9,
                    "metadata": {},
                    "output_type": "execute_result"
                }
            ],
            "source": [
                "print(df.shape)\n",
                "df['label'].value_counts()"
            ]
        },
        {
            "cell_type": "code",
            "execution_count": 10,
            "metadata": {},
            "outputs": [
                {
                    "name": "stdout",
                    "output_type": "stream",
                    "text": [
                        "13363    10807\n",
                        "53       10079\n",
                        "80        2782\n",
                        "443        780\n",
                        "6881       130\n",
                        "         ...  \n",
                        "41646        1\n",
                        "9475         1\n",
                        "43842        1\n",
                        "2147         1\n",
                        "34060        1\n",
                        "Name: dport, Length: 2381, dtype: int64\n",
                        "53       25597\n",
                        "80        1199\n",
                        "65500      320\n",
                        "6667       227\n",
                        "443         95\n",
                        "587         62\n",
                        "3817        13\n",
                        "4190        13\n",
                        "888         10\n",
                        "5296         9\n",
                        "9541         6\n",
                        "5231         5\n",
                        "8399         5\n",
                        "65520        5\n",
                        "6251         5\n",
                        "41422        2\n",
                        "10298        2\n",
                        "81           2\n",
                        "82           2\n",
                        "2012         2\n",
                        "9381         1\n",
                        "88           1\n",
                        "Name: dport, dtype: int64\n"
                    ]
                }
            ],
            "source": [
                "gp = df.groupby('label')\n",
                "with pd.option_context('display.max_rows', 50):\n",
                "    print(gp.get_group(0.0)['dport'].value_counts())\n",
                "    print(gp.get_group(1.0)['dport'].value_counts())"
            ]
        },
        {
            "cell_type": "code",
            "execution_count": 11,
            "metadata": {},
            "outputs": [
                {
                    "data": {
                        "image/png": "[encoded data removed]",
                        "text/plain": [
                            "<Figure size 432x288 with 2 Axes>"
                        ]
                    },
                    "metadata": {
                        "needs_background": "light"
                    },
                    "output_type": "display_data"
                }
            ],
            "source": [
                "hist = df.hist(column='dport', by='label', bins=128, log=True, sharex=True, sharey=True)"
            ]
        },
        {
            "cell_type": "code",
            "execution_count": 12,
            "metadata": {},
            "outputs": [
                {
                    "data": {
                        "text/plain": [
                            "RandomForestClassifier(criterion='entropy', max_depth=16, max_features='sqrt',\n",
                            "                       max_samples=0.5, min_samples_leaf=2, n_estimators=10,\n",
                            "                       n_jobs=-1)"
                        ]
                    },
                    "execution_count": 12,
                    "metadata": {},
                    "output_type": "execute_result"
                }
            ],
            "source": [
                "model = RF()\n",
                "best_param_dict = {\n",
                "        'bootstrap': True,\n",
                "        'max_depth': 16,\n",
                "        'max_features': 'sqrt',\n",
                "        'min_impurity_decrease': 0.0,\n",
                "        'min_samples_leaf': 2,\n",
                "        'n_estimators': 10,\n",
                "        'max_samples': 0.5,\n",
                "        'criterion': 'entropy',\n",
                "        'n_jobs': -1,\n",
                "        }\n",
                "model.set_params(**best_param_dict)"
            ]
        },
        {
            "cell_type": "code",
            "execution_count": 13,
            "metadata": {},
            "outputs": [],
            "source": [
                "X_train, X_test, y_train, y_test = train_test_split(df['dport'], df['label'], test_size=0.8, random_state=42)"
            ]
        },
        {
            "cell_type": "code",
            "execution_count": 14,
            "metadata": {},
            "outputs": [
                {
                    "data": {
                        "text/plain": [
                            "RandomForestClassifier(criterion='entropy', max_depth=16, max_features='sqrt',\n",
                            "                       max_samples=0.5, min_samples_leaf=2, n_estimators=10,\n",
                            "                       n_jobs=-1)"
                        ]
                    },
                    "execution_count": 14,
                    "metadata": {},
                    "output_type": "execute_result"
                }
            ],
            "source": [
                "model.fit(X=X_train.array.reshape(-1,1), y=y_train.array)"
            ]
        },
        {
            "cell_type": "code",
            "execution_count": 15,
            "metadata": {},
            "outputs": [
                {
                    "name": "stdout",
                    "output_type": "stream",
                    "text": [
                        "ctu13-1 => Destination Port\n",
                        "Accuracy: 0.793\n",
                        "Recall: 0.952\n",
                        "Precision: 0.722\n"
                    ]
                }
            ],
            "source": [
                "intra_outputs = model.predict(X=X_test.array.reshape(-1,1))\n",
                "intra_acc = accuracy_score(y_true=y_test, y_pred=intra_outputs)\n",
                "intra_rec = recall_score(y_true=y_test, y_pred=intra_outputs)\n",
                "intra_pre = precision_score(y_true=y_test, y_pred=intra_outputs)\n",
                "print(f\"{dataset} => Destination Port\")\n",
                "print(f\"Accuracy: {intra_acc:.3f}\")\n",
                "print(f\"Recall: {intra_rec:.3f}\")\n",
                "print(f\"Precision: {intra_pre:.3f}\")\n"
            ]
        }
    ],
    "metadata": {
        "interpreter": {
            "hash": "e7370f93d1d0cde622a1f8e1c04877d8463912d04d973331ad4851f04de6915a"
        },
        "kernelspec": {
            "display_name": "Python 3.9.7 64-bit",
            "name": "python3"
        },
        "language_info": {
            "codemirror_mode": {
                "name": "ipython",
                "version": 3
            },
            "file_extension": ".py",
            "mimetype": "text/x-python",
            "name": "python",
            "nbconvert_exporter": "python",
            "pygments_lexer": "ipython3",
            "version": "3.10.4"
        },
        "orig_nbformat": 4
    },
    "nbformat": 4,
    "nbformat_minor": 2
}
