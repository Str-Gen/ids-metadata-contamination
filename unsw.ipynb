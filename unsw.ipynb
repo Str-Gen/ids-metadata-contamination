{
    "cells": [
        {
            "cell_type": "code",
            "execution_count": 2,
            "metadata": {},
            "outputs": [],
            "source": [
                "import pandas as pd\n",
                "import numpy as np\n",
                "from sklearn.ensemble import RandomForestClassifier as RF\n",
                "from sklearn.model_selection import train_test_split\n",
                "from sklearn.metrics import accuracy_score, precision_score, recall_score"
            ]
        },
        {
            "cell_type": "code",
            "execution_count": 3,
            "metadata": {},
            "outputs": [],
            "source": [
                "# To UNSW-NB15's authors' credit, they do strip dst port from their DESIGNATED train / test sets, still sttl ruins their entire dataset\n",
                "head = \"/home/dhoogla/PhD/clean-ids-collection\"\n",
                "unsw_data = {    \n",
                "    \"unsw-nb15\": f\"{head}/unsw-nb15/dirty-with-metadata/UNSW-NB15.parquet\",    \n",
                "}"
            ]
        },
        {
            "cell_type": "code",
            "execution_count": 4,
            "metadata": {},
            "outputs": [
                {
                    "data": {
                        "text/plain": [
                            "['/home/dhoogla/PhD/clean-ids-collection/unsw-nb15/dirty-with-metadata/UNSW-NB15.parquet']"
                        ]
                    },
                    "execution_count": 4,
                    "metadata": {},
                    "output_type": "execute_result"
                }
            ],
            "source": [
                "dataset = \"unsw-nb15\"\n",
                "datapaths = [f\"{unsw_data[dataset]}\"]\n",
                "datapaths"
            ]
        },
        {
            "cell_type": "code",
            "execution_count": 5,
            "metadata": {},
            "outputs": [],
            "source": [
                "df = pd.concat(objs=[pd.read_parquet(path) for path in datapaths], ignore_index=True, copy=False, sort=False, verify_integrity=False)"
            ]
        },
        {
            "cell_type": "code",
            "execution_count": 6,
            "metadata": {},
            "outputs": [
                {
                    "data": {
                        "text/plain": [
                            "Index(['srcip', 'sport', 'dstip', 'dsport', 'proto', 'state', 'dur', 'sbytes',\n",
                            "       'dbytes', 'sttl', 'dttl', 'sloss', 'dloss', 'service', 'sload', 'dload',\n",
                            "       'spkts', 'dpkts', 'swin', 'dwin', 'stcpb', 'dtcpb', 'smeansz',\n",
                            "       'dmeansz', 'trans_depth', 'res_bdy_len', 'sjit', 'djit', 'stime',\n",
                            "       'ltime', 'sintpkt', 'dintpkt', 'tcprtt', 'synack', 'ackdat',\n",
                            "       'is_sm_ips_ports', 'ct_state_ttl', 'ct_flw_http_mthd', 'is_ftp_login',\n",
                            "       'ct_ftp_cmd', 'ct_srv_src', 'ct_srv_dst', 'ct_dst_ltm', 'ct_src_ltm',\n",
                            "       'ct_src_dport_ltm', 'ct_dst_sport_ltm', 'ct_dst_src_ltm', 'attack_cat',\n",
                            "       'label'],\n",
                            "      dtype='object')"
                        ]
                    },
                    "execution_count": 6,
                    "metadata": {},
                    "output_type": "execute_result"
                }
            ],
            "source": [
                "df.columns"
            ]
        },
        {
            "cell_type": "code",
            "execution_count": 7,
            "metadata": {},
            "outputs": [
                {
                    "data": {
                        "text/plain": [
                            "False    1951069\n",
                            "True       84628\n",
                            "Name: label, dtype: int64"
                        ]
                    },
                    "execution_count": 7,
                    "metadata": {},
                    "output_type": "execute_result"
                }
            ],
            "source": [
                "df = df[['dsport', 'label']]\n",
                "df['label'].value_counts()"
            ]
        },
        {
            "cell_type": "code",
            "execution_count": 8,
            "metadata": {},
            "outputs": [],
            "source": [
                "df['label'] = df['label'].astype(dtype='float32', copy=False)\n"
            ]
        },
        {
            "cell_type": "code",
            "execution_count": 9,
            "metadata": {},
            "outputs": [],
            "source": [
                "col = df.columns[-1]\n",
                "cols = df.columns[:-1]\n",
                "vc = df[col].value_counts()\n",
                "n = vc.iloc[-1]\n",
                "m = vc.iloc[0]\n",
                "initial_cut = df.loc[df[col] == vc.index[0]].sample(n=int(m-n), replace=False)\n",
                "df = df.drop(index=initial_cut.index)"
            ]
        },
        {
            "cell_type": "code",
            "execution_count": 10,
            "metadata": {},
            "outputs": [
                {
                    "name": "stdout",
                    "output_type": "stream",
                    "text": [
                        "(169256, 2)\n"
                    ]
                },
                {
                    "data": {
                        "text/plain": [
                            "1.0    84628\n",
                            "0.0    84628\n",
                            "Name: label, dtype: int64"
                        ]
                    },
                    "execution_count": 10,
                    "metadata": {},
                    "output_type": "execute_result"
                }
            ],
            "source": [
                "print(df.shape)\n",
                "df['label'].value_counts()"
            ]
        },
        {
            "cell_type": "code",
            "execution_count": 14,
            "metadata": {},
            "outputs": [
                {
                    "name": "stdout",
                    "output_type": "stream",
                    "text": [
                        "BENIGN TOP PORTS\n",
                        "53       16506\n",
                        "80        8470\n",
                        "6881      5175\n",
                        "5190      5099\n",
                        "111       3638\n",
                        "         ...  \n",
                        "26155        1\n",
                        "33426        1\n",
                        "59754        1\n",
                        "8726         1\n",
                        "59136        1\n",
                        "Name: dsport, Length: 23644, dtype: int64\n",
                        "MALICIOUS TOP PORTS\n",
                        "80       18898\n",
                        "53       16244\n",
                        "111       9508\n",
                        "179       5460\n",
                        "25        5124\n",
                        "         ...  \n",
                        "40932        1\n",
                        "51536        1\n",
                        "64763        1\n",
                        "42476        1\n",
                        "34913        1\n",
                        "Name: dsport, Length: 3182, dtype: int64\n"
                    ]
                }
            ],
            "source": [
                "gp = df.groupby('label')\n",
                "with pd.option_context('display.max_rows', 50):\n",
                "    print(\"BENIGN TOP PORTS\")\n",
                "    print(gp.get_group(0.0)['dsport'].value_counts())\n",
                "    print(\"MALICIOUS TOP PORTS\")\n",
                "    print(gp.get_group(1.0)['dsport'].value_counts())"
            ]
        },
        {
            "cell_type": "code",
            "execution_count": 13,
            "metadata": {},
            "outputs": [
                {
                    "data": {
                        "image/png": "[encoded data removed]",
                        "text/plain": [
                            "<Figure size 432x288 with 2 Axes>"
                        ]
                    },
                    "metadata": {
                        "needs_background": "light"
                    },
                    "output_type": "display_data"
                }
            ],
            "source": [
                "hist = df.hist(column='dsport', by='label', bins=1024, log=True, sharey=True, sharex=True)"
            ]
        },
        {
            "cell_type": "code",
            "execution_count": null,
            "metadata": {},
            "outputs": [
                {
                    "data": {
                        "text/plain": [
                            "RandomForestClassifier(criterion='entropy', max_depth=16, max_features='sqrt',\n",
                            "                       max_samples=0.5, min_samples_leaf=2, n_estimators=10,\n",
                            "                       n_jobs=-1)"
                        ]
                    },
                    "execution_count": 64,
                    "metadata": {},
                    "output_type": "execute_result"
                }
            ],
            "source": [
                "model = RF()\n",
                "best_param_dict = {\n",
                "        'bootstrap': True,\n",
                "        'max_depth': 16,\n",
                "        'max_features': 'sqrt',\n",
                "        'min_impurity_decrease': 0.0,\n",
                "        'min_samples_leaf': 2,\n",
                "        'n_estimators': 10,\n",
                "        'max_samples': 0.5,\n",
                "        'criterion': 'entropy',\n",
                "        'n_jobs': -1,\n",
                "        }\n",
                "model.set_params(**best_param_dict)"
            ]
        },
        {
            "cell_type": "code",
            "execution_count": null,
            "metadata": {},
            "outputs": [],
            "source": [
                "X_train, X_test, y_train, y_test = train_test_split(df['dsport'], df['label'], test_size=0.8, random_state=42)"
            ]
        },
        {
            "cell_type": "code",
            "execution_count": null,
            "metadata": {},
            "outputs": [
                {
                    "data": {
                        "text/plain": [
                            "RandomForestClassifier(criterion='entropy', max_depth=16, max_features='sqrt',\n",
                            "                       max_samples=0.5, min_samples_leaf=2, n_estimators=10,\n",
                            "                       n_jobs=-1)"
                        ]
                    },
                    "execution_count": 66,
                    "metadata": {},
                    "output_type": "execute_result"
                }
            ],
            "source": [
                "model.fit(X=X_train.array.reshape(-1,1), y=y_train.array)"
            ]
        },
        {
            "cell_type": "code",
            "execution_count": null,
            "metadata": {},
            "outputs": [
                {
                    "name": "stdout",
                    "output_type": "stream",
                    "text": [
                        "unsw-nb15 => Destination Port\n",
                        "Accuracy: 0.753\n",
                        "Recall: 0.933\n",
                        "Precision: 0.685\n"
                    ]
                }
            ],
            "source": [
                "intra_outputs = model.predict(X=X_test.array.reshape(-1,1))\n",
                "intra_acc = accuracy_score(y_true=y_test, y_pred=intra_outputs)\n",
                "intra_rec = recall_score(y_true=y_test, y_pred=intra_outputs)\n",
                "intra_pre = precision_score(y_true=y_test, y_pred=intra_outputs)\n",
                "print(f\"{dataset} => Destination Port\")\n",
                "print(f\"Accuracy: {intra_acc:.3f}\")\n",
                "print(f\"Recall: {intra_rec:.3f}\")\n",
                "print(f\"Precision: {intra_pre:.3f}\")\n"
            ]
        }
    ],
    "metadata": {
        "interpreter": {
            "hash": "e7370f93d1d0cde622a1f8e1c04877d8463912d04d973331ad4851f04de6915a"
        },
        "kernelspec": {
            "display_name": "Python 3.9.7 64-bit",
            "name": "python3"
        },
        "language_info": {
            "codemirror_mode": {
                "name": "ipython",
                "version": 3
            },
            "file_extension": ".py",
            "mimetype": "text/x-python",
            "name": "python",
            "nbconvert_exporter": "python",
            "pygments_lexer": "ipython3",
            "version": "3.10.4"
        },
        "orig_nbformat": 4
    },
    "nbformat": 4,
    "nbformat_minor": 2
}
