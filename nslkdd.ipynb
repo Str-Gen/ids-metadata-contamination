{
 "cells": [
  {
   "cell_type": "code",
   "execution_count": 1,
   "metadata": {},
   "outputs": [],
   "source": [
    "import pandas as pd\n",
    "import numpy as np\n",
    "from statistics import mean, stdev\n",
    "from sklearn.ensemble import RandomForestClassifier as RF\n",
    "from sklearn.model_selection import train_test_split\n",
    "from sklearn.metrics import accuracy_score, precision_score, recall_score\n",
    "from sklearn.preprocessing import LabelEncoder"
   ]
  },
  {
   "cell_type": "code",
   "execution_count": 2,
   "metadata": {},
   "outputs": [],
   "source": [
    "# NSL-KDD does not directly include the numeric destination port, but it does include 'service'\n",
    "head = \"/home/dhoogla/PhD/clean-ids-collection\"\n",
    "nslkdd_data = {    \n",
    "    \"nslkdd-train\": f\"{head}/nsl-kdd/dirty-with-metadata/KDDTrain.parquet\",\n",
    "    \"nslkdd-test\": f\"{head}/nsl-kdd/dirty-with-metadata/KDDTest.parquet\",        \n",
    "}\n",
    "nslkdd_data['nslkdd'] = [nslkdd_data['nslkdd-train'], nslkdd_data['nslkdd-test']]"
   ]
  },
  {
   "cell_type": "code",
   "execution_count": 3,
   "metadata": {},
   "outputs": [
    {
     "name": "stdout",
     "output_type": "stream",
     "text": [
      "0.0    77054\n",
      "1.0    71463\n",
      "Name: class, dtype: int64\n",
      "(148517, 3)\n"
     ]
    }
   ],
   "source": [
    "tr = pd.read_parquet(nslkdd_data['nslkdd-train'])\n",
    "tr['subset'] = 'train'\n",
    "te = pd.read_parquet(nslkdd_data['nslkdd-test'])\n",
    "te['subset'] = 'test'\n",
    "        \n",
    "df = pd.concat(objs=[tr, te], ignore_index=True, copy=False, sort=False)\n",
    "\n",
    "df = df[['service', 'subset', 'class']]\n",
    "\n",
    "attack_types = list(df['class'].value_counts().index)\n",
    "class_idx = df.columns.size -1\n",
    "df['class'] = df['class'].astype('object')\n",
    "\n",
    "attacks = df.loc[df['class'] != \"normal\"].index\n",
    "df.iloc[attacks, class_idx] = 1.0\n",
    "df.iloc[df.index.difference(attacks), class_idx] = 0.0\n",
    "df['class'] = df['class'].astype(dtype=np.float32, copy=False)\n",
    "print(df['class'].value_counts())\n",
    "\n",
    "df['service'] = df['service'].astype('category')\n",
    "df['service'] = df['service'].cat.codes\n",
    "print(df.shape)"
   ]
  },
  {
   "cell_type": "code",
   "execution_count": 4,
   "metadata": {},
   "outputs": [
    {
     "name": "stdout",
     "output_type": "stream",
     "text": [
      "(142926, 3)\n"
     ]
    }
   ],
   "source": [
    "col = df.columns[-1]\n",
    "cols = df.columns[:-1]\n",
    "vc = df[col].value_counts()\n",
    "n = vc.iloc[-1]\n",
    "m = vc.iloc[0]\n",
    "initial_cut = df.loc[df[col] == vc.index[0]].sample(n=int(m-n), replace=False)\n",
    "remainder = df.iloc[initial_cut.index, :]    \n",
    "df = df.drop(index=initial_cut.index)\n",
    "\n",
    "print(df.shape)"
   ]
  },
  {
   "cell_type": "code",
   "execution_count": 5,
   "metadata": {},
   "outputs": [
    {
     "name": "stdout",
     "output_type": "stream",
     "text": [
      "(121105, 2)\n",
      "(21821, 2)\n"
     ]
    },
    {
     "name": "stderr",
     "output_type": "stream",
     "text": [
      "/tmp/ipykernel_32196/617728654.py:2: SettingWithCopyWarning: \n",
      "A value is trying to be set on a copy of a slice from a DataFrame\n",
      "\n",
      "See the caveats in the documentation: https://pandas.pydata.org/pandas-docs/stable/user_guide/indexing.html#returning-a-view-versus-a-copy\n",
      "  df_train.drop(labels=['subset'], axis=1, inplace=True)\n",
      "/tmp/ipykernel_32196/617728654.py:7: SettingWithCopyWarning: \n",
      "A value is trying to be set on a copy of a slice from a DataFrame\n",
      "\n",
      "See the caveats in the documentation: https://pandas.pydata.org/pandas-docs/stable/user_guide/indexing.html#returning-a-view-versus-a-copy\n",
      "  df_test.drop(labels=['subset'], axis=1, inplace=True)\n"
     ]
    }
   ],
   "source": [
    "df_train = df.loc[df['subset'] == 'train']\n",
    "df_train.drop(labels=['subset'], axis=1, inplace=True)    \n",
    "df_train.reset_index(inplace=True, drop=True)\n",
    "print(df_train.shape)\n",
    "\n",
    "df_test = df.loc[df['subset'] == 'test']\n",
    "df_test.drop(labels=['subset'], axis=1, inplace=True)\n",
    "df_test.reset_index(inplace=True, drop=True)\n",
    "print(df_test.shape)\n",
    "\n",
    "df.drop(labels=['subset'], axis=1, inplace=True)"
   ]
  },
  {
   "cell_type": "code",
   "execution_count": 6,
   "metadata": {},
   "outputs": [
    {
     "name": "stdout",
     "output_type": "stream",
     "text": [
      "24    35267\n",
      "12     8389\n",
      "54     6551\n",
      "20     4625\n",
      "44     2418\n",
      "49      911\n",
      "19      845\n",
      "60      841\n",
      "65      564\n",
      "18      505\n",
      "14      463\n",
      "4       219\n",
      "0       178\n",
      "47      174\n",
      "15      170\n",
      "43      158\n",
      "63       72\n",
      "1        55\n",
      "11       36\n",
      "64        9\n",
      "50        7\n",
      "53        4\n",
      "62        4\n",
      "56        4\n",
      "28        3\n",
      "61        3\n",
      "Name: service, dtype: int64\n",
      "49    20871\n",
      "14     4089\n",
      "15     2887\n",
      "24     2289\n",
      "20     1876\n",
      "      ...  \n",
      "27        2\n",
      "3         2\n",
      "22        2\n",
      "25        1\n",
      "0         1\n",
      "Name: service, Length: 66, dtype: int64\n"
     ]
    }
   ],
   "source": [
    "gp_train = df_train.groupby('class')\n",
    "with pd.option_context('display.max_rows', 50):\n",
    "    print(gp_train.get_group(0.0)['service'].value_counts())\n",
    "    print(gp_train.get_group(1.0)['service'].value_counts())"
   ]
  },
  {
   "cell_type": "code",
   "execution_count": 7,
   "metadata": {},
   "outputs": [
    {
     "data": {
      "image/png": "[encoded data removed]",
      "text/plain": [
       "<Figure size 432x288 with 2 Axes>"
      ]
     },
     "metadata": {
      "needs_background": "light"
     },
     "output_type": "display_data"
    }
   ],
   "source": [
    "hist_train = df_train.hist(column='service', by='class', bins=256, log=True, sharey=True, sharex=True)"
   ]
  },
  {
   "cell_type": "code",
   "execution_count": 8,
   "metadata": {},
   "outputs": [
    {
     "name": "stdout",
     "output_type": "stream",
     "text": [
      "24    6171\n",
      "12     833\n",
      "49     784\n",
      "54     565\n",
      "20     298\n",
      "44      63\n",
      "15      46\n",
      "18      45\n",
      "19      44\n",
      "60      39\n",
      "14      26\n",
      "4       18\n",
      "65      16\n",
      "0       10\n",
      "43       9\n",
      "47       8\n",
      "63       5\n",
      "1        4\n",
      "62       1\n",
      "61       1\n",
      "33       1\n",
      "51       1\n",
      "Name: service, dtype: int64\n",
      "49    3922\n",
      "60    1582\n",
      "24    1180\n",
      "47    1011\n",
      "44     773\n",
      "      ... \n",
      "52       8\n",
      "65       5\n",
      "62       5\n",
      "0        3\n",
      "12       2\n",
      "Name: service, Length: 62, dtype: int64\n"
     ]
    }
   ],
   "source": [
    "gp_test = df_test.groupby('class')\n",
    "with pd.option_context('display.max_rows', 50):\n",
    "    print(gp_test.get_group(0.0)['service'].value_counts())\n",
    "    print(gp_test.get_group(1.0)['service'].value_counts())"
   ]
  },
  {
   "cell_type": "code",
   "execution_count": 9,
   "metadata": {},
   "outputs": [
    {
     "data": {
      "image/png": "[encoded data removed]",
      "text/plain": [
       "<Figure size 432x288 with 2 Axes>"
      ]
     },
     "metadata": {
      "needs_background": "light"
     },
     "output_type": "display_data"
    }
   ],
   "source": [
    "hist_test = df_test.hist(column='service', by='class', bins=256, log=True, sharey=True, sharex=True)"
   ]
  },
  {
   "cell_type": "code",
   "execution_count": 10,
   "metadata": {},
   "outputs": [
    {
     "data": {
      "text/html": [
       "<style>#sk-container-id-1 {color: black;background-color: white;}#sk-container-id-1 pre{padding: 0;}#sk-container-id-1 div.sk-toggleable {background-color: white;}#sk-container-id-1 label.sk-toggleable__label {cursor: pointer;display: block;width: 100%;margin-bottom: 0;padding: 0.3em;box-sizing: border-box;text-align: center;}#sk-container-id-1 label.sk-toggleable__label-arrow:before {content: \"▸\";float: left;margin-right: 0.25em;color: #696969;}#sk-container-id-1 label.sk-toggleable__label-arrow:hover:before {color: black;}#sk-container-id-1 div.sk-estimator:hover label.sk-toggleable__label-arrow:before {color: black;}#sk-container-id-1 div.sk-toggleable__content {max-height: 0;max-width: 0;overflow: hidden;text-align: left;background-color: #f0f8ff;}#sk-container-id-1 div.sk-toggleable__content pre {margin: 0.2em;color: black;border-radius: 0.25em;background-color: #f0f8ff;}#sk-container-id-1 input.sk-toggleable__control:checked~div.sk-toggleable__content {max-height: 200px;max-width: 100%;overflow: auto;}#sk-container-id-1 input.sk-toggleable__control:checked~label.sk-toggleable__label-arrow:before {content: \"▾\";}#sk-container-id-1 div.sk-estimator input.sk-toggleable__control:checked~label.sk-toggleable__label {background-color: #d4ebff;}#sk-container-id-1 div.sk-label input.sk-toggleable__control:checked~label.sk-toggleable__label {background-color: #d4ebff;}#sk-container-id-1 input.sk-hidden--visually {border: 0;clip: rect(1px 1px 1px 1px);clip: rect(1px, 1px, 1px, 1px);height: 1px;margin: -1px;overflow: hidden;padding: 0;position: absolute;width: 1px;}#sk-container-id-1 div.sk-estimator {font-family: monospace;background-color: #f0f8ff;border: 1px dotted black;border-radius: 0.25em;box-sizing: border-box;margin-bottom: 0.5em;}#sk-container-id-1 div.sk-estimator:hover {background-color: #d4ebff;}#sk-container-id-1 div.sk-parallel-item::after {content: \"\";width: 100%;border-bottom: 1px solid gray;flex-grow: 1;}#sk-container-id-1 div.sk-label:hover label.sk-toggleable__label {background-color: #d4ebff;}#sk-container-id-1 div.sk-serial::before {content: \"\";position: absolute;border-left: 1px solid gray;box-sizing: border-box;top: 0;bottom: 0;left: 50%;z-index: 0;}#sk-container-id-1 div.sk-serial {display: flex;flex-direction: column;align-items: center;background-color: white;padding-right: 0.2em;padding-left: 0.2em;position: relative;}#sk-container-id-1 div.sk-item {position: relative;z-index: 1;}#sk-container-id-1 div.sk-parallel {display: flex;align-items: stretch;justify-content: center;background-color: white;position: relative;}#sk-container-id-1 div.sk-item::before, #sk-container-id-1 div.sk-parallel-item::before {content: \"\";position: absolute;border-left: 1px solid gray;box-sizing: border-box;top: 0;bottom: 0;left: 50%;z-index: -1;}#sk-container-id-1 div.sk-parallel-item {display: flex;flex-direction: column;z-index: 1;position: relative;background-color: white;}#sk-container-id-1 div.sk-parallel-item:first-child::after {align-self: flex-end;width: 50%;}#sk-container-id-1 div.sk-parallel-item:last-child::after {align-self: flex-start;width: 50%;}#sk-container-id-1 div.sk-parallel-item:only-child::after {width: 0;}#sk-container-id-1 div.sk-dashed-wrapped {border: 1px dashed gray;margin: 0 0.4em 0.5em 0.4em;box-sizing: border-box;padding-bottom: 0.4em;background-color: white;}#sk-container-id-1 div.sk-label label {font-family: monospace;font-weight: bold;display: inline-block;line-height: 1.2em;}#sk-container-id-1 div.sk-label-container {text-align: center;}#sk-container-id-1 div.sk-container {/* jupyter's `normalize.less` sets `[hidden] { display: none; }` but bootstrap.min.css set `[hidden] { display: none !important; }` so we also need the `!important` here to be able to override the default hidden behavior on the sphinx rendered scikit-learn.org. See: https://github.com/scikit-learn/scikit-learn/issues/21755 */display: inline-block !important;position: relative;}#sk-container-id-1 div.sk-text-repr-fallback {display: none;}</style><div id=\"sk-container-id-1\" class=\"sk-top-container\"><div class=\"sk-text-repr-fallback\"><pre>RandomForestClassifier(criterion=&#x27;entropy&#x27;, max_depth=3, max_samples=0.5,\n",
       "                       min_samples_leaf=2, n_estimators=10, n_jobs=-1)</pre><b>In a Jupyter environment, please rerun this cell to show the HTML representation or trust the notebook. <br />On GitHub, the HTML representation is unable to render, please try loading this page with nbviewer.org.</b></div><div class=\"sk-container\" hidden><div class=\"sk-item\"><div class=\"sk-estimator sk-toggleable\"><input class=\"sk-toggleable__control sk-hidden--visually\" id=\"sk-estimator-id-1\" type=\"checkbox\" checked><label for=\"sk-estimator-id-1\" class=\"sk-toggleable__label sk-toggleable__label-arrow\">RandomForestClassifier</label><div class=\"sk-toggleable__content\"><pre>RandomForestClassifier(criterion=&#x27;entropy&#x27;, max_depth=3, max_samples=0.5,\n",
       "                       min_samples_leaf=2, n_estimators=10, n_jobs=-1)</pre></div></div></div></div></div>"
      ],
      "text/plain": [
       "RandomForestClassifier(criterion='entropy', max_depth=3, max_samples=0.5,\n",
       "                       min_samples_leaf=2, n_estimators=10, n_jobs=-1)"
      ]
     },
     "execution_count": 10,
     "metadata": {},
     "output_type": "execute_result"
    }
   ],
   "source": [
    "model = RF()\n",
    "best_param_dict = {\n",
    "        'bootstrap': True,\n",
    "        'max_depth': 3,\n",
    "        'max_features': 'sqrt',\n",
    "        'min_impurity_decrease': 0.0,\n",
    "        'min_samples_leaf': 2,\n",
    "        'n_estimators': 10,\n",
    "        'max_samples': 0.5,\n",
    "        'criterion': 'entropy',\n",
    "        'n_jobs': -1,\n",
    "        }\n",
    "model.set_params(**best_param_dict)"
   ]
  },
  {
   "cell_type": "code",
   "execution_count": 11,
   "metadata": {},
   "outputs": [
    {
     "data": {
      "text/html": [
       "<style>#sk-container-id-2 {color: black;background-color: white;}#sk-container-id-2 pre{padding: 0;}#sk-container-id-2 div.sk-toggleable {background-color: white;}#sk-container-id-2 label.sk-toggleable__label {cursor: pointer;display: block;width: 100%;margin-bottom: 0;padding: 0.3em;box-sizing: border-box;text-align: center;}#sk-container-id-2 label.sk-toggleable__label-arrow:before {content: \"▸\";float: left;margin-right: 0.25em;color: #696969;}#sk-container-id-2 label.sk-toggleable__label-arrow:hover:before {color: black;}#sk-container-id-2 div.sk-estimator:hover label.sk-toggleable__label-arrow:before {color: black;}#sk-container-id-2 div.sk-toggleable__content {max-height: 0;max-width: 0;overflow: hidden;text-align: left;background-color: #f0f8ff;}#sk-container-id-2 div.sk-toggleable__content pre {margin: 0.2em;color: black;border-radius: 0.25em;background-color: #f0f8ff;}#sk-container-id-2 input.sk-toggleable__control:checked~div.sk-toggleable__content {max-height: 200px;max-width: 100%;overflow: auto;}#sk-container-id-2 input.sk-toggleable__control:checked~label.sk-toggleable__label-arrow:before {content: \"▾\";}#sk-container-id-2 div.sk-estimator input.sk-toggleable__control:checked~label.sk-toggleable__label {background-color: #d4ebff;}#sk-container-id-2 div.sk-label input.sk-toggleable__control:checked~label.sk-toggleable__label {background-color: #d4ebff;}#sk-container-id-2 input.sk-hidden--visually {border: 0;clip: rect(1px 1px 1px 1px);clip: rect(1px, 1px, 1px, 1px);height: 1px;margin: -1px;overflow: hidden;padding: 0;position: absolute;width: 1px;}#sk-container-id-2 div.sk-estimator {font-family: monospace;background-color: #f0f8ff;border: 1px dotted black;border-radius: 0.25em;box-sizing: border-box;margin-bottom: 0.5em;}#sk-container-id-2 div.sk-estimator:hover {background-color: #d4ebff;}#sk-container-id-2 div.sk-parallel-item::after {content: \"\";width: 100%;border-bottom: 1px solid gray;flex-grow: 1;}#sk-container-id-2 div.sk-label:hover label.sk-toggleable__label {background-color: #d4ebff;}#sk-container-id-2 div.sk-serial::before {content: \"\";position: absolute;border-left: 1px solid gray;box-sizing: border-box;top: 0;bottom: 0;left: 50%;z-index: 0;}#sk-container-id-2 div.sk-serial {display: flex;flex-direction: column;align-items: center;background-color: white;padding-right: 0.2em;padding-left: 0.2em;position: relative;}#sk-container-id-2 div.sk-item {position: relative;z-index: 1;}#sk-container-id-2 div.sk-parallel {display: flex;align-items: stretch;justify-content: center;background-color: white;position: relative;}#sk-container-id-2 div.sk-item::before, #sk-container-id-2 div.sk-parallel-item::before {content: \"\";position: absolute;border-left: 1px solid gray;box-sizing: border-box;top: 0;bottom: 0;left: 50%;z-index: -1;}#sk-container-id-2 div.sk-parallel-item {display: flex;flex-direction: column;z-index: 1;position: relative;background-color: white;}#sk-container-id-2 div.sk-parallel-item:first-child::after {align-self: flex-end;width: 50%;}#sk-container-id-2 div.sk-parallel-item:last-child::after {align-self: flex-start;width: 50%;}#sk-container-id-2 div.sk-parallel-item:only-child::after {width: 0;}#sk-container-id-2 div.sk-dashed-wrapped {border: 1px dashed gray;margin: 0 0.4em 0.5em 0.4em;box-sizing: border-box;padding-bottom: 0.4em;background-color: white;}#sk-container-id-2 div.sk-label label {font-family: monospace;font-weight: bold;display: inline-block;line-height: 1.2em;}#sk-container-id-2 div.sk-label-container {text-align: center;}#sk-container-id-2 div.sk-container {/* jupyter's `normalize.less` sets `[hidden] { display: none; }` but bootstrap.min.css set `[hidden] { display: none !important; }` so we also need the `!important` here to be able to override the default hidden behavior on the sphinx rendered scikit-learn.org. See: https://github.com/scikit-learn/scikit-learn/issues/21755 */display: inline-block !important;position: relative;}#sk-container-id-2 div.sk-text-repr-fallback {display: none;}</style><div id=\"sk-container-id-2\" class=\"sk-top-container\"><div class=\"sk-text-repr-fallback\"><pre>RandomForestClassifier(criterion=&#x27;entropy&#x27;, max_depth=3, max_samples=0.5,\n",
       "                       min_samples_leaf=2, n_estimators=10, n_jobs=-1)</pre><b>In a Jupyter environment, please rerun this cell to show the HTML representation or trust the notebook. <br />On GitHub, the HTML representation is unable to render, please try loading this page with nbviewer.org.</b></div><div class=\"sk-container\" hidden><div class=\"sk-item\"><div class=\"sk-estimator sk-toggleable\"><input class=\"sk-toggleable__control sk-hidden--visually\" id=\"sk-estimator-id-2\" type=\"checkbox\" checked><label for=\"sk-estimator-id-2\" class=\"sk-toggleable__label sk-toggleable__label-arrow\">RandomForestClassifier</label><div class=\"sk-toggleable__content\"><pre>RandomForestClassifier(criterion=&#x27;entropy&#x27;, max_depth=3, max_samples=0.5,\n",
       "                       min_samples_leaf=2, n_estimators=10, n_jobs=-1)</pre></div></div></div></div></div>"
      ],
      "text/plain": [
       "RandomForestClassifier(criterion='entropy', max_depth=3, max_samples=0.5,\n",
       "                       min_samples_leaf=2, n_estimators=10, n_jobs=-1)"
      ]
     },
     "execution_count": 11,
     "metadata": {},
     "output_type": "execute_result"
    }
   ],
   "source": [
    "X_train = df_train['service']\n",
    "y_train = df_train['class']\n",
    "X_test = df_test['service']\n",
    "y_test = df_test['class']\n",
    "\n",
    "model.fit(X=X_train.array.reshape(-1,1), y=y_train.array)"
   ]
  },
  {
   "cell_type": "code",
   "execution_count": 12,
   "metadata": {},
   "outputs": [
    {
     "name": "stdout",
     "output_type": "stream",
     "text": [
      "NSL-KDD designated => Service\n",
      "Accuracy: 0.779\n",
      "Recall: 0.700\n",
      "Precision: 0.903\n"
     ]
    }
   ],
   "source": [
    "intra_outputs = model.predict(X=X_test.array.reshape(-1,1))\n",
    "intra_acc = accuracy_score(y_true=y_test, y_pred=intra_outputs)\n",
    "intra_rec = recall_score(y_true=y_test, y_pred=intra_outputs)\n",
    "intra_pre = precision_score(y_true=y_test, y_pred=intra_outputs)\n",
    "print(f\"NSL-KDD designated => Service\")\n",
    "print(f\"Accuracy: {intra_acc:.3f}\")\n",
    "print(f\"Recall: {intra_rec:.3f}\")\n",
    "print(f\"Precision: {intra_pre:.3f}\")"
   ]
  }
 ],
 "metadata": {
  "interpreter": {
   "hash": "e7370f93d1d0cde622a1f8e1c04877d8463912d04d973331ad4851f04de6915a"
  },
  "kernelspec": {
   "display_name": "Python 3.10.4 64-bit",
   "language": "python",
   "name": "python3"
  },
  "language_info": {
   "codemirror_mode": {
    "name": "ipython",
    "version": 3
   },
   "file_extension": ".py",
   "mimetype": "text/x-python",
   "name": "python",
   "nbconvert_exporter": "python",
   "pygments_lexer": "ipython3",
   "version": "3.10.4"
  },
  "orig_nbformat": 4
 },
 "nbformat": 4,
 "nbformat_minor": 2
}
