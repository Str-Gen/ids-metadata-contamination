{
    "cells": [
        {
            "cell_type": "code",
            "execution_count": 2,
            "metadata": {},
            "outputs": [],
            "source": [
                "import pandas as pd\n",
                "import numpy as np\n",
                "from sklearn.ensemble import RandomForestClassifier as RF\n",
                "from sklearn.model_selection import train_test_split\n",
                "from sklearn.metrics import accuracy_score, precision_score, recall_score\n"
            ]
        },
        {
            "cell_type": "code",
            "execution_count": 3,
            "metadata": {},
            "outputs": [],
            "source": [
                "head = \"/home/dhoogla/PhD/clean-ids-collection\"\n",
                "cidds_data = {\n",
                "    \"cidds-001-external-1\": f\"{head}/cidds-001/dirty-with-metadata/traffic/ExternalServer/CIDDS-001-external-week1.parquet\", # only benign\n",
                "    \"cidds-001-external-2\": f\"{head}/cidds-001/dirty-with-metadata/traffic/ExternalServer/CIDDS-001-external-week2.parquet\",\n",
                "    \"cidds-001-external-3\": f\"{head}/cidds-001/dirty-with-metadata/traffic/ExternalServer/CIDDS-001-external-week3.parquet\",\n",
                "    \"cidds-001-external-4\": f\"{head}/cidds-001/dirty-with-metadata/traffic/ExternalServer/CIDDS-001-external-week4.parquet\",\n",
                "    \"cidds-001-internal-1\": f\"{head}/cidds-001/dirty-with-metadata/traffic/OpenStack/CIDDS-001-internal-week1.parquet\",\n",
                "    \"cidds-001-internal-2\": f\"{head}/cidds-001/dirty-with-metadata/traffic/OpenStack/CIDDS-001-internal-week2.parquet\",\n",
                "    \"cidds-001-internal-3\": f\"{head}/cidds-001/dirty-with-metadata/traffic/OpenStack/CIDDS-001-internal-week3.parquet\",\n",
                "    \"cidds-001-internal-4\": f\"{head}/cidds-001/dirty-with-metadata/traffic/OpenStack/CIDDS-001-internal-week4.parquet\",\n",
                "    \"cidds-002-internal-1\": f\"{head}/cidds-002/dirty-with-metadata/traffic/week1.parquet\",\n",
                "    \"cidds-002-internal-2\": f\"{head}/cidds-002/dirty-with-metadata/traffic/week2.parquet\",\n",
                "}"
            ]
        },
        {
            "cell_type": "code",
            "execution_count": 4,
            "metadata": {},
            "outputs": [],
            "source": [
                "dataset = \"cidds-001-external-2\"\n",
                "datapaths = [f\"{cidds_data[dataset]}\"]"
            ]
        },
        {
            "cell_type": "code",
            "execution_count": 5,
            "metadata": {},
            "outputs": [],
            "source": [
                "df = pd.concat(objs=[pd.read_parquet(path) for path in datapaths], ignore_index=True, copy=False, sort=False, verify_integrity=False)"
            ]
        },
        {
            "cell_type": "code",
            "execution_count": 6,
            "metadata": {},
            "outputs": [
                {
                    "data": {
                        "text/plain": [
                            "Index(['date_first_seen', 'duration', 'proto_GRE', 'proto_ICMP', 'proto_TCP',\n",
                            "       'proto_UDP', 'src_ip_addr', 'src_pt', 'dst_ip_addr', 'dst_pt',\n",
                            "       'packets', 'bytes', 'flows', 'tcp_urg', 'tcp_ack', 'tcp_psh', 'tcp_rst',\n",
                            "       'tcp_syn', 'tcp_fin', 'tos', 'class', 'attack_type', 'attack_id',\n",
                            "       'attack_description'],\n",
                            "      dtype='object')"
                        ]
                    },
                    "execution_count": 6,
                    "metadata": {},
                    "output_type": "execute_result"
                }
            ],
            "source": [
                "df.columns"
            ]
        },
        {
            "cell_type": "code",
            "execution_count": 7,
            "metadata": {},
            "outputs": [
                {
                    "data": {
                        "text/plain": [
                            "benign        154228\n",
                            "portScan        4010\n",
                            "bruteForce       768\n",
                            "Name: attack_type, dtype: int64"
                        ]
                    },
                    "execution_count": 7,
                    "metadata": {},
                    "output_type": "execute_result"
                }
            ],
            "source": [
                "df = df[['dst_pt', 'attack_type']]\n",
                "df['attack_type'] = df['attack_type'].astype(dtype='object')\n",
                "df['attack_type'].value_counts()"
            ]
        },
        {
            "cell_type": "code",
            "execution_count": 8,
            "metadata": {},
            "outputs": [],
            "source": [
                "label_idx = df.columns.size -1\n",
                "attacks = df.loc[df['attack_type'] != \"benign\"].index\n",
                "df.iloc[attacks, label_idx] = 1.0\n",
                "df.iloc[df.index.difference(attacks), label_idx] = 0.0\n",
                "df['attack_type'] = df['attack_type'].astype(dtype='float32', copy=False)\n"
            ]
        },
        {
            "cell_type": "code",
            "execution_count": 9,
            "metadata": {},
            "outputs": [],
            "source": [
                "col = df.columns[-1]\n",
                "cols = df.columns[:-1]\n",
                "vc = df[col].value_counts()\n",
                "n = vc.iloc[-1]\n",
                "m = vc.iloc[0]\n",
                "initial_cut = df.loc[df[col] == vc.index[0]].sample(n=int(m-n), replace=False)\n",
                "df = df.drop(index=initial_cut.index)"
            ]
        },
        {
            "cell_type": "code",
            "execution_count": 10,
            "metadata": {},
            "outputs": [
                {
                    "data": {
                        "text/plain": [
                            "0.0    4778\n",
                            "1.0    4778\n",
                            "Name: attack_type, dtype: int64"
                        ]
                    },
                    "execution_count": 10,
                    "metadata": {},
                    "output_type": "execute_result"
                }
            ],
            "source": [
                "df.shape\n",
                "df['attack_type'].value_counts()"
            ]
        },
        {
            "cell_type": "code",
            "execution_count": 11,
            "metadata": {},
            "outputs": [
                {
                    "name": "stdout",
                    "output_type": "stream",
                    "text": [
                        "22.0       1392\n",
                        "8000.0      461\n",
                        "80.0        164\n",
                        "23.0        127\n",
                        "3.3          43\n",
                        "           ... \n",
                        "15334.0       1\n",
                        "37573.0       1\n",
                        "47041.0       1\n",
                        "58738.0       1\n",
                        "57260.0       1\n",
                        "Name: dst_pt, Length: 2362, dtype: int64\n",
                        "62917.0    1000\n",
                        "44712.0    1000\n",
                        "22.0        386\n",
                        "80.0          3\n",
                        "443.0         3\n",
                        "           ... \n",
                        "50848.0       1\n",
                        "50846.0       1\n",
                        "50844.0       1\n",
                        "50842.0       1\n",
                        "51378.0       1\n",
                        "Name: dst_pt, Length: 1388, dtype: int64\n"
                    ]
                }
            ],
            "source": [
                "gp = df.groupby('attack_type')\n",
                "with pd.option_context('display.max_rows', 50):\n",
                "    print(gp.get_group(0.0)['dst_pt'].value_counts())\n",
                "    print(gp.get_group(1.0)['dst_pt'].value_counts())"
            ]
        },
        {
            "cell_type": "code",
            "execution_count": 12,
            "metadata": {},
            "outputs": [
                {
                    "ename": "TypeError",
                    "evalue": "vars() argument must have __dict__ attribute",
                    "output_type": "error",
                    "traceback": [
                        "\u001b[0;31m---------------------------------------------------------------------------\u001b[0m",
                        "\u001b[0;31mTypeError\u001b[0m                                 Traceback (most recent call last)",
                        "\u001b[1;32m/home/dhoogla/PhD/dstport/cidds.ipynb Cell 11'\u001b[0m in \u001b[0;36m<cell line: 2>\u001b[0;34m()\u001b[0m\n\u001b[1;32m      <a href='vscode-notebook-cell:/home/dhoogla/PhD/dstport/cidds.ipynb#ch0000010?line=0'>1</a>\u001b[0m hist \u001b[39m=\u001b[39m df\u001b[39m.\u001b[39mhist(column\u001b[39m=\u001b[39m\u001b[39m'\u001b[39m\u001b[39mdst_pt\u001b[39m\u001b[39m'\u001b[39m, by\u001b[39m=\u001b[39m\u001b[39m'\u001b[39m\u001b[39mattack_type\u001b[39m\u001b[39m'\u001b[39m, bins\u001b[39m=\u001b[39m\u001b[39m1024\u001b[39m)\n\u001b[0;32m----> <a href='vscode-notebook-cell:/home/dhoogla/PhD/dstport/cidds.ipynb#ch0000010?line=1'>2</a>\u001b[0m \u001b[39mprint\u001b[39m(\u001b[39mvars\u001b[39;49m(hist))\n",
                        "\u001b[0;31mTypeError\u001b[0m: vars() argument must have __dict__ attribute"
                    ]
                },
                {
                    "data": {
                        "image/png": "[encoded data removed]",
                        "text/plain": [
                            "<Figure size 432x288 with 2 Axes>"
                        ]
                    },
                    "metadata": {
                        "needs_background": "light"
                    },
                    "output_type": "display_data"
                }
            ],
            "source": [
                "hist = df.hist(column='dst_pt', by='attack_type', bins=1024, log=True)\n",
                "print(vars(hist))"
            ]
        },
        {
            "cell_type": "code",
            "execution_count": null,
            "metadata": {},
            "outputs": [
                {
                    "data": {
                        "text/plain": [
                            "RandomForestClassifier(criterion='entropy', max_depth=16, max_features='sqrt',\n",
                            "                       max_samples=0.5, min_samples_leaf=2, n_estimators=10,\n",
                            "                       n_jobs=-1)"
                        ]
                    },
                    "execution_count": 18,
                    "metadata": {},
                    "output_type": "execute_result"
                }
            ],
            "source": [
                "model = RF()\n",
                "best_param_dict = {\n",
                "        'bootstrap': True,\n",
                "        'max_depth': 16,\n",
                "        'max_features': 'sqrt',\n",
                "        'min_impurity_decrease': 0.0,\n",
                "        'min_samples_leaf': 2,\n",
                "        'n_estimators': 10,\n",
                "        'max_samples': 0.5,\n",
                "        'criterion': 'entropy',\n",
                "        'n_jobs': -1,\n",
                "        }\n",
                "model.set_params(**best_param_dict)"
            ]
        },
        {
            "cell_type": "code",
            "execution_count": null,
            "metadata": {},
            "outputs": [],
            "source": [
                "X_train, X_test, y_train, y_test = train_test_split(df['dst_pt'], df['attack_type'], test_size=0.8, random_state=42)"
            ]
        },
        {
            "cell_type": "code",
            "execution_count": null,
            "metadata": {},
            "outputs": [
                {
                    "data": {
                        "text/plain": [
                            "RandomForestClassifier(criterion='entropy', max_depth=16, max_features='sqrt',\n",
                            "                       max_samples=0.5, min_samples_leaf=2, n_estimators=10,\n",
                            "                       n_jobs=-1)"
                        ]
                    },
                    "execution_count": 20,
                    "metadata": {},
                    "output_type": "execute_result"
                }
            ],
            "source": [
                "model.fit(X=X_train.array.reshape(-1,1), y=y_train.array)"
            ]
        },
        {
            "cell_type": "code",
            "execution_count": null,
            "metadata": {},
            "outputs": [
                {
                    "name": "stdout",
                    "output_type": "stream",
                    "text": [
                        "Destination Port ROC-AUC: 0.874\n",
                        "\n"
                    ]
                }
            ],
            "source": [
                "intra_outputs = model.predict(X=X_test.array.reshape(-1,1))\n",
                "intra_acc = accuracy_score(y_true=y_test, y_pred=intra_outputs)\n",
                "intra_rec = recall_score(y_true=y_test, y_pred=intra_outputs)\n",
                "intra_pre = precision_score(y_true=y_test, y_pred=intra_outputs)\n",
                "print(f\"{dataset} => Destination Port\")\n",
                "print(f\"Accuracy: {intra_acc:.3f}\")\n",
                "print(f\"Recall: {intra_rec:.3f}\")\n",
                "print(f\"Precision: {intra_pre:.3f}\")\n"
            ]
        }
    ],
    "metadata": {
        "interpreter": {
            "hash": "e7370f93d1d0cde622a1f8e1c04877d8463912d04d973331ad4851f04de6915a"
        },
        "kernelspec": {
            "display_name": "Python 3.9.7 64-bit",
            "name": "python3"
        },
        "language_info": {
            "codemirror_mode": {
                "name": "ipython",
                "version": 3
            },
            "file_extension": ".py",
            "mimetype": "text/x-python",
            "name": "python",
            "nbconvert_exporter": "python",
            "pygments_lexer": "ipython3",
            "version": "3.10.4"
        },
        "orig_nbformat": 4
    },
    "nbformat": 4,
    "nbformat_minor": 2
}
