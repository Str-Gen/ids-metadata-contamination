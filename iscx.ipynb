{
    "cells": [
        {
            "cell_type": "code",
            "execution_count": 1,
            "source": [
                "import pandas as pd\n",
                "import numpy as np\n",
                "from sklearn.ensemble import RandomForestClassifier as RF\n",
                "from sklearn.model_selection import train_test_split\n",
                "from sklearn.metrics import accuracy_score, precision_score, recall_score"
            ],
            "outputs": [],
            "metadata": {}
        },
        {
            "cell_type": "code",
            "execution_count": 2,
            "source": [
                "head = \"/home/dhoogla/PhD/clean-ids-collection\"\n",
                "iscx_data = {    \n",
                "    'iscxids2012': f'{head}/iscx-ids2012/dirty-with-metadata/iscx-ids2012.parquet',\n",
                "    'iscxids2012-1': f'{head}/iscx-ids2012/dirty-with-metadata/TestbedMonJun14Flows.parquet',\n",
                "    'iscxids2012-2': f'{head}/iscx-ids2012/dirty-with-metadata/TestbedSatJun12Flows.parquet',\n",
                "    'iscxids2012-3': f'{head}/iscx-ids2012/dirty-with-metadata/TestbedSunJun13Flows.parquet',\n",
                "    'iscxids2012-4': f'{head}/iscx-ids2012/dirty-with-metadata/TestbedThuJun17-1Flows.parquet',\n",
                "    'iscxids2012-5': f'{head}/iscx-ids2012/dirty-with-metadata/TestbedThuJun17-2Flows.parquet',\n",
                "    'iscxids2012-6': f'{head}/iscx-ids2012/dirty-with-metadata/TestbedThuJun17-3Flows.parquet',\n",
                "    'iscxids2012-7': f'{head}/iscx-ids2012/dirty-with-metadata/TestbedTueJun15-1Flows.parquet',\n",
                "    'iscxids2012-8': f'{head}/iscx-ids2012/dirty-with-metadata/TestbedTueJun15-2Flows.parquet',\n",
                "    'iscxids2012-9': f'{head}/iscx-ids2012/dirty-with-metadata/TestbedTueJun15-3Flows.parquet',\n",
                "    'iscxids2012-10': f'{head}/iscx-ids2012/dirty-with-metadata/TestbedWedJun16-1Flows.parquet',\n",
                "    'iscxids2012-11': f'{head}/iscx-ids2012/dirty-with-metadata/TestbedWedJun16-2Flows.parquet',\n",
                "    'iscxids2012-12': f'{head}/iscx-ids2012/dirty-with-metadata/TestbedWedJun16-3Flows.parquet',\n",
                "}\n"
            ],
            "outputs": [],
            "metadata": {}
        },
        {
            "cell_type": "code",
            "execution_count": 3,
            "source": [
                "dataset = \"iscxids2012-1\"\n",
                "datapaths = [f\"{iscx_data[dataset]}\"]\n"
            ],
            "outputs": [],
            "metadata": {}
        },
        {
            "cell_type": "code",
            "execution_count": 4,
            "source": [
                "df = pd.concat(objs=[pd.read_parquet(path) for path in datapaths], ignore_index=True, copy=False, sort=False, verify_integrity=False)"
            ],
            "outputs": [],
            "metadata": {}
        },
        {
            "cell_type": "code",
            "execution_count": 5,
            "source": [
                "df.columns"
            ],
            "outputs": [
                {
                    "output_type": "execute_result",
                    "data": {
                        "text/plain": [
                            "Index(['app_name_AOL-ICQ', 'app_name_Anet', 'app_name_Authentication',\n",
                            "       'app_name_BGP', 'app_name_BitTorrent', 'app_name_Citrix',\n",
                            "       'app_name_Common-P2P-Port', 'app_name_Common-Ports', 'app_name_DNS',\n",
                            "       'app_name_DNS-Port',\n",
                            "       ...\n",
                            "       'source', 'proto_icmp_ip', 'proto_igmp', 'proto_ip', 'proto_tcp_ip',\n",
                            "       'proto_udp_ip', 'source_port', 'destination', 'destination_port',\n",
                            "       'tag'],\n",
                            "      dtype='object', length=123)"
                        ]
                    },
                    "metadata": {},
                    "execution_count": 5
                }
            ],
            "metadata": {}
        },
        {
            "cell_type": "code",
            "execution_count": 6,
            "source": [
                "df = df[['destination_port', 'tag']]\n",
                "df['tag'] = df['tag'].astype(dtype='object')\n",
                "df['tag'].value_counts()"
            ],
            "outputs": [
                {
                    "output_type": "execute_result",
                    "data": {
                        "text/plain": [
                            "Normal    160137\n",
                            "Attack      3630\n",
                            "Name: tag, dtype: int64"
                        ]
                    },
                    "metadata": {},
                    "execution_count": 6
                }
            ],
            "metadata": {}
        },
        {
            "cell_type": "code",
            "execution_count": 7,
            "source": [
                "tag_idx = df.columns.size -1\n",
                "attacks = df.loc[df['tag'] != \"Normal\"].index\n",
                "df.iloc[attacks, tag_idx] = 1.0\n",
                "df.iloc[df.index.difference(attacks), tag_idx] = 0.0\n",
                "df['tag'] = df['tag'].astype(dtype='float32', copy=False)\n",
                "print(df['tag'].value_counts())"
            ],
            "outputs": [
                {
                    "output_type": "stream",
                    "name": "stdout",
                    "text": [
                        "0.0    160137\n",
                        "1.0      3630\n",
                        "Name: tag, dtype: int64\n"
                    ]
                }
            ],
            "metadata": {}
        },
        {
            "cell_type": "code",
            "execution_count": 8,
            "source": [
                "col = df.columns[-1]\n",
                "cols = df.columns[:-1]\n",
                "vc = df[col].value_counts()\n",
                "n = vc.iloc[-1]\n",
                "m = vc.iloc[0]\n",
                "initial_cut = df.loc[df[col] == vc.index[0]].sample(n=int(m-n), replace=False)\n",
                "df = df.drop(index=initial_cut.index)"
            ],
            "outputs": [],
            "metadata": {}
        },
        {
            "cell_type": "code",
            "execution_count": 9,
            "source": [
                "print(df.shape)\n",
                "df['tag'].value_counts()"
            ],
            "outputs": [
                {
                    "output_type": "stream",
                    "name": "stdout",
                    "text": [
                        "(7260, 2)\n"
                    ]
                },
                {
                    "output_type": "execute_result",
                    "data": {
                        "text/plain": [
                            "1.0    3630\n",
                            "0.0    3630\n",
                            "Name: tag, dtype: int64"
                        ]
                    },
                    "metadata": {},
                    "execution_count": 9
                }
            ],
            "metadata": {}
        },
        {
            "cell_type": "code",
            "execution_count": 10,
            "source": [
                "gp = df.groupby('tag')\n",
                "with pd.option_context('display.max_rows', 50):\n",
                "    print(gp.get_group(0.0)['destination_port'].value_counts())\n",
                "    print(gp.get_group(1.0)['destination_port'].value_counts())"
            ],
            "outputs": [
                {
                    "output_type": "stream",
                    "name": "stdout",
                    "text": [
                        "80       2311\n",
                        "53        789\n",
                        "443       199\n",
                        "110        49\n",
                        "25         34\n",
                        "         ... \n",
                        "62027       1\n",
                        "52574       1\n",
                        "59039       1\n",
                        "54971       1\n",
                        "60031       1\n",
                        "Name: destination_port, Length: 177, dtype: int64\n",
                        "80       2057\n",
                        "443        91\n",
                        "0          55\n",
                        "143        28\n",
                        "4444       27\n",
                        "         ... \n",
                        "15002       1\n",
                        "1112        1\n",
                        "4998        1\n",
                        "1065        1\n",
                        "9944        1\n",
                        "Name: destination_port, Length: 667, dtype: int64\n"
                    ]
                }
            ],
            "metadata": {}
        },
        {
            "cell_type": "code",
            "execution_count": 11,
            "source": [
                "hist = df['destination_port'].plot.hist(by=df['tag'], bins=10, stacked=True, alpha=0.5, legend=True)"
            ],
            "outputs": [
                {
                    "output_type": "display_data",
                    "data": {
                        "text/plain": [
                            "<Figure size 432x288 with 1 Axes>"
                        ],
                        "image/png": "[encoded data removed]"
                    },
                    "metadata": {
                        "needs_background": "light"
                    }
                }
            ],
            "metadata": {}
        },
        {
            "cell_type": "code",
            "execution_count": 12,
            "source": [
                "model = RF()\n",
                "best_param_dict = {\n",
                "        'bootstrap': True,\n",
                "        'max_depth': 16,\n",
                "        'max_features': 'sqrt',\n",
                "        'min_impurity_decrease': 0.0,\n",
                "        'min_samples_leaf': 2,\n",
                "        'n_estimators': 10,\n",
                "        'max_samples': 0.5,\n",
                "        'criterion': 'entropy',\n",
                "        'n_jobs': -1,\n",
                "        }\n",
                "model.set_params(**best_param_dict)"
            ],
            "outputs": [
                {
                    "output_type": "execute_result",
                    "data": {
                        "text/plain": [
                            "RandomForestClassifier(criterion='entropy', max_depth=16, max_features='sqrt',\n",
                            "                       max_samples=0.5, min_samples_leaf=2, n_estimators=10,\n",
                            "                       n_jobs=-1)"
                        ]
                    },
                    "metadata": {},
                    "execution_count": 12
                }
            ],
            "metadata": {}
        },
        {
            "cell_type": "code",
            "execution_count": 13,
            "source": [
                "X_train, X_test, y_train, y_test = train_test_split(df['destination_port'], df['tag'], test_size=0.8, random_state=42)"
            ],
            "outputs": [],
            "metadata": {}
        },
        {
            "cell_type": "code",
            "execution_count": 14,
            "source": [
                "model.fit(X=X_train.array.reshape(-1,1), y=y_train.array)"
            ],
            "outputs": [
                {
                    "output_type": "execute_result",
                    "data": {
                        "text/plain": [
                            "RandomForestClassifier(criterion='entropy', max_depth=16, max_features='sqrt',\n",
                            "                       max_samples=0.5, min_samples_leaf=2, n_estimators=10,\n",
                            "                       n_jobs=-1)"
                        ]
                    },
                    "metadata": {},
                    "execution_count": 14
                }
            ],
            "metadata": {}
        },
        {
            "cell_type": "code",
            "execution_count": 15,
            "source": [
                "intra_outputs = model.predict(X=X_test.array.reshape(-1,1))\n",
                "intra_acc = accuracy_score(y_true=y_test, y_pred=intra_outputs)\n",
                "intra_rec = recall_score(y_true=y_test, y_pred=intra_outputs)\n",
                "intra_pre = precision_score(y_true=y_test, y_pred=intra_outputs)\n",
                "print(f\"{dataset} => Destination Port\")\n",
                "print(f\"Accuracy: {intra_acc:.3f}\")\n",
                "print(f\"Recall: {intra_rec:.3f}\")\n",
                "print(f\"Precision: {intra_pre:.3f}\")\n"
            ],
            "outputs": [
                {
                    "output_type": "stream",
                    "name": "stdout",
                    "text": [
                        "iscxids2012-1 => Destination Port\n",
                        "Accuracy: 0.675\n",
                        "Recall: 0.385\n",
                        "Precision: 0.904\n"
                    ]
                }
            ],
            "metadata": {}
        }
    ],
    "metadata": {
        "orig_nbformat": 4,
        "language_info": {
            "name": "python",
            "version": "3.9.7",
            "mimetype": "text/x-python",
            "codemirror_mode": {
                "name": "ipython",
                "version": 3
            },
            "pygments_lexer": "ipython3",
            "nbconvert_exporter": "python",
            "file_extension": ".py"
        },
        "kernelspec": {
            "name": "python3",
            "display_name": "Python 3.9.7 64-bit"
        },
        "interpreter": {
            "hash": "e7370f93d1d0cde622a1f8e1c04877d8463912d04d973331ad4851f04de6915a"
        }
    },
    "nbformat": 4,
    "nbformat_minor": 2
}